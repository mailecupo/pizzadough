{
 "cells": [
  {
   "cell_type": "code",
   "execution_count": 171,
   "metadata": {},
   "outputs": [],
   "source": [
    "import requests as req\n",
    "from bs4 import BeautifulSoup\n",
    "import pandas as pd\n",
    "import os"
   ]
  },
  {
   "cell_type": "code",
   "execution_count": null,
   "metadata": {},
   "outputs": [],
   "source": [
    "############################################################\n",
    "#    !IMPORTANT!   CONFIGURE SCRIPT IN THIS CELL\n",
    "############################################################\n",
    "\n",
    "#Local target for data files\n",
    "path = ''\n",
    "\n",
    "#Number of pinterest recipes to load\n",
    "target = 500\n",
    "\n",
    "# Pinterest login info\n",
    "pinterest_ux = ''\n",
    "pinterest_pw = ''"
   ]
  },
  {
   "cell_type": "code",
   "execution_count": 186,
   "metadata": {},
   "outputs": [],
   "source": [
    "found = true\n",
    "while found:\n",
    "home = req.get('https://www.foodnetwork.com/search/pizza-dough-/p/{n}'.format(n = n)).text\n",
    "soup = BeautifulSoup(home, 'html.parser')\n",
    "for a in soup.find_all('a'):\n",
    "    for child in a.find_all():\n",
    "        if child.get('class')=='m-MediaBlock__a-HeadlineText':\n",
    "            l.append(a)\n",
    "            break"
   ]
  },
  {
   "cell_type": "code",
   "execution_count": 212,
   "metadata": {},
   "outputs": [],
   "source": [
    "############################################################\n",
    "#    Get ingredientlists from foodnetwork recipes\n",
    "############################################################\n",
    "\n",
    "df = pd.DataFrame()\n",
    "\n",
    "for r in l:\n",
    "    home = req.get('https:'+r).text\n",
    "    soup = BeautifulSoup(home, 'html.parser')\n",
    "    for i in soup.findAll(\"p\",{\"class\": \"o-Ingredients__a-Ingredient\"}):\n",
    "        df = df.append({'recipe':'https:'+r, 'ingredient':i.text.strip(), 'source':'foodnetwork'}, ignore_index = True)\n",
    "        \n",
    "df.to_csv(os.path.join(path,'foodnetwork.csv'))"
   ]
  },
  {
   "cell_type": "code",
   "execution_count": 173,
   "metadata": {},
   "outputs": [],
   "source": [
    "############################################################\n",
    "#    Get List of Recipes from allrecipes\n",
    "############################################################\n",
    "\n",
    "l=[]\n",
    "n = 0\n",
    "found = True\n",
    "\n",
    "while found:\n",
    "    found = False\n",
    "    n+=1\n",
    "    home = req.get('https://www.allrecipes.com/recipes/1035/bread/pizza-dough-and-crusts/?page={n}'.format(n = n)).text\n",
    "    soup = BeautifulSoup(home, 'html.parser')\n",
    "    for a in soup.find_all('a'):\n",
    "        if a.get('class'):\n",
    "            if a.get('class')[0] == 'fixed-recipe-card__title-link':\n",
    "                found = True\n",
    "                l.append(a.get('href'))                "
   ]
  },
  {
   "cell_type": "code",
   "execution_count": 174,
   "metadata": {},
   "outputs": [],
   "source": [
    "############################################################\n",
    "#    Get ingredientlist from allrecipes\n",
    "############################################################\n",
    "df = pd.DataFrame()\n",
    "\n",
    "for r in l:\n",
    "    home = req.get(r).text\n",
    "    soup = BeautifulSoup(home, 'html.parser')\n",
    "    for e in soup.find_all(class_ = 'ingredients-item-name'):\n",
    "        df = df.append({'recipe':r, 'ingredient':e.text.strip(), 'source':'allrecipes'}, ignore_index = True)\n",
    "\n",
    "df.to_csv(os.path.join(path,'allrecipes.csv'))"
   ]
  }
 ],
 "metadata": {
  "kernelspec": {
   "display_name": "Python 3",
   "language": "python",
   "name": "python3"
  },
  "language_info": {
   "codemirror_mode": {
    "name": "ipython",
    "version": 3
   },
   "file_extension": ".py",
   "mimetype": "text/x-python",
   "name": "python",
   "nbconvert_exporter": "python",
   "pygments_lexer": "ipython3",
   "version": "3.7.4"
  }
 },
 "nbformat": 4,
 "nbformat_minor": 2
}
